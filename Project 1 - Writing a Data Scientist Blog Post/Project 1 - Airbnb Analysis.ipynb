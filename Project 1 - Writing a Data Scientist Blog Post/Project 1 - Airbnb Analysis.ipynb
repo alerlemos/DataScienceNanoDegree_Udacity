{
 "cells": [
  {
   "cell_type": "markdown",
   "id": "genetic-clear",
   "metadata": {},
   "source": [
    "# Aribnb Data Analysis: Seattle and Boston\n",
    "## Udacity Data Scientist Nanodegree Project 1\n",
    "\n",
    "## Questions:\n",
    "\n",
    "### - Q1: How is the price variation throughout the year? Which month is the most expensive one to rent a room?\n",
    "### - Q2: Can the price be predicted using the data provided?\n",
    "### - Q3: Wich city is more expensive (higher avarege price): Boston or Seattle?\n",
    "### - Q4: The prices behave in the say manner in both cities (according to Q1)?"
   ]
  },
  {
   "cell_type": "code",
   "execution_count": 224,
   "id": "settled-calculation",
   "metadata": {},
   "outputs": [],
   "source": [
    "# Importing libraries\n",
    "import pandas as pd\n",
    "import matplotlib.pyplot as plt\n",
    "import seaborn as sns"
   ]
  },
  {
   "cell_type": "markdown",
   "id": "protected-wyoming",
   "metadata": {},
   "source": [
    "## Seattle Airbnb Data"
   ]
  },
  {
   "cell_type": "code",
   "execution_count": 146,
   "id": "painted-straight",
   "metadata": {},
   "outputs": [],
   "source": [
    "sea_list = pd.read_csv('./Data/Airbnb/Seattle/listings.csv', thousands=',')\n",
    "sae_cal = pd.read_csv('./Data/Airbnb/Seattle/calendar.csv', thousands=',')"
   ]
  },
  {
   "cell_type": "markdown",
   "id": "million-spending",
   "metadata": {},
   "source": [
    "## Question 1: How is the price variation throughout the year? Which month is the most expensive one to rent a room?\n",
    "\n",
    "### Analysing the calendar database"
   ]
  },
  {
   "cell_type": "code",
   "execution_count": 147,
   "id": "strategic-table",
   "metadata": {},
   "outputs": [
    {
     "data": {
      "text/html": [
       "<div>\n",
       "<style scoped>\n",
       "    .dataframe tbody tr th:only-of-type {\n",
       "        vertical-align: middle;\n",
       "    }\n",
       "\n",
       "    .dataframe tbody tr th {\n",
       "        vertical-align: top;\n",
       "    }\n",
       "\n",
       "    .dataframe thead th {\n",
       "        text-align: right;\n",
       "    }\n",
       "</style>\n",
       "<table border=\"1\" class=\"dataframe\">\n",
       "  <thead>\n",
       "    <tr style=\"text-align: right;\">\n",
       "      <th></th>\n",
       "      <th>listing_id</th>\n",
       "      <th>date</th>\n",
       "      <th>available</th>\n",
       "      <th>price</th>\n",
       "    </tr>\n",
       "  </thead>\n",
       "  <tbody>\n",
       "    <tr>\n",
       "      <th>0</th>\n",
       "      <td>241032</td>\n",
       "      <td>2016-01-04</td>\n",
       "      <td>t</td>\n",
       "      <td>$85.00</td>\n",
       "    </tr>\n",
       "    <tr>\n",
       "      <th>1</th>\n",
       "      <td>241032</td>\n",
       "      <td>2016-01-05</td>\n",
       "      <td>t</td>\n",
       "      <td>$85.00</td>\n",
       "    </tr>\n",
       "    <tr>\n",
       "      <th>2</th>\n",
       "      <td>241032</td>\n",
       "      <td>2016-01-06</td>\n",
       "      <td>f</td>\n",
       "      <td>NaN</td>\n",
       "    </tr>\n",
       "    <tr>\n",
       "      <th>3</th>\n",
       "      <td>241032</td>\n",
       "      <td>2016-01-07</td>\n",
       "      <td>f</td>\n",
       "      <td>NaN</td>\n",
       "    </tr>\n",
       "    <tr>\n",
       "      <th>4</th>\n",
       "      <td>241032</td>\n",
       "      <td>2016-01-08</td>\n",
       "      <td>f</td>\n",
       "      <td>NaN</td>\n",
       "    </tr>\n",
       "  </tbody>\n",
       "</table>\n",
       "</div>"
      ],
      "text/plain": [
       "   listing_id        date available   price\n",
       "0      241032  2016-01-04         t  $85.00\n",
       "1      241032  2016-01-05         t  $85.00\n",
       "2      241032  2016-01-06         f     NaN\n",
       "3      241032  2016-01-07         f     NaN\n",
       "4      241032  2016-01-08         f     NaN"
      ]
     },
     "execution_count": 147,
     "metadata": {},
     "output_type": "execute_result"
    }
   ],
   "source": [
    "sae_cal.head()"
   ]
  },
  {
   "cell_type": "code",
   "execution_count": 148,
   "id": "standing-country",
   "metadata": {},
   "outputs": [
    {
     "name": "stdout",
     "output_type": "stream",
     "text": [
      "<class 'pandas.core.frame.DataFrame'>\n",
      "RangeIndex: 1393570 entries, 0 to 1393569\n",
      "Data columns (total 4 columns):\n",
      " #   Column      Non-Null Count    Dtype \n",
      "---  ------      --------------    ----- \n",
      " 0   listing_id  1393570 non-null  int64 \n",
      " 1   date        1393570 non-null  object\n",
      " 2   available   1393570 non-null  object\n",
      " 3   price       934542 non-null   object\n",
      "dtypes: int64(1), object(3)\n",
      "memory usage: 42.5+ MB\n"
     ]
    }
   ],
   "source": [
    "sae_cal.info()"
   ]
  },
  {
   "cell_type": "code",
   "execution_count": 208,
   "id": "constant-serum",
   "metadata": {},
   "outputs": [],
   "source": [
    "# Creating a dataset only with the registers that have a price\n",
    "sea_cal_pr = sae_cal[sae_cal['available'] == 't']"
   ]
  },
  {
   "cell_type": "code",
   "execution_count": 209,
   "id": "laden-chosen",
   "metadata": {},
   "outputs": [
    {
     "data": {
      "text/html": [
       "<div>\n",
       "<style scoped>\n",
       "    .dataframe tbody tr th:only-of-type {\n",
       "        vertical-align: middle;\n",
       "    }\n",
       "\n",
       "    .dataframe tbody tr th {\n",
       "        vertical-align: top;\n",
       "    }\n",
       "\n",
       "    .dataframe thead th {\n",
       "        text-align: right;\n",
       "    }\n",
       "</style>\n",
       "<table border=\"1\" class=\"dataframe\">\n",
       "  <thead>\n",
       "    <tr style=\"text-align: right;\">\n",
       "      <th></th>\n",
       "      <th>listing_id</th>\n",
       "      <th>date</th>\n",
       "      <th>available</th>\n",
       "      <th>price</th>\n",
       "    </tr>\n",
       "  </thead>\n",
       "  <tbody>\n",
       "    <tr>\n",
       "      <th>0</th>\n",
       "      <td>241032</td>\n",
       "      <td>2016-01-04</td>\n",
       "      <td>t</td>\n",
       "      <td>$85.00</td>\n",
       "    </tr>\n",
       "    <tr>\n",
       "      <th>1</th>\n",
       "      <td>241032</td>\n",
       "      <td>2016-01-05</td>\n",
       "      <td>t</td>\n",
       "      <td>$85.00</td>\n",
       "    </tr>\n",
       "    <tr>\n",
       "      <th>9</th>\n",
       "      <td>241032</td>\n",
       "      <td>2016-01-13</td>\n",
       "      <td>t</td>\n",
       "      <td>$85.00</td>\n",
       "    </tr>\n",
       "    <tr>\n",
       "      <th>10</th>\n",
       "      <td>241032</td>\n",
       "      <td>2016-01-14</td>\n",
       "      <td>t</td>\n",
       "      <td>$85.00</td>\n",
       "    </tr>\n",
       "    <tr>\n",
       "      <th>14</th>\n",
       "      <td>241032</td>\n",
       "      <td>2016-01-18</td>\n",
       "      <td>t</td>\n",
       "      <td>$85.00</td>\n",
       "    </tr>\n",
       "  </tbody>\n",
       "</table>\n",
       "</div>"
      ],
      "text/plain": [
       "    listing_id        date available   price\n",
       "0       241032  2016-01-04         t  $85.00\n",
       "1       241032  2016-01-05         t  $85.00\n",
       "9       241032  2016-01-13         t  $85.00\n",
       "10      241032  2016-01-14         t  $85.00\n",
       "14      241032  2016-01-18         t  $85.00"
      ]
     },
     "execution_count": 209,
     "metadata": {},
     "output_type": "execute_result"
    }
   ],
   "source": [
    "sea_cal_pr.head()"
   ]
  },
  {
   "cell_type": "code",
   "execution_count": 210,
   "id": "played-strap",
   "metadata": {},
   "outputs": [
    {
     "data": {
      "text/html": [
       "<div>\n",
       "<style scoped>\n",
       "    .dataframe tbody tr th:only-of-type {\n",
       "        vertical-align: middle;\n",
       "    }\n",
       "\n",
       "    .dataframe tbody tr th {\n",
       "        vertical-align: top;\n",
       "    }\n",
       "\n",
       "    .dataframe thead th {\n",
       "        text-align: right;\n",
       "    }\n",
       "</style>\n",
       "<table border=\"1\" class=\"dataframe\">\n",
       "  <thead>\n",
       "    <tr style=\"text-align: right;\">\n",
       "      <th></th>\n",
       "      <th>price</th>\n",
       "    </tr>\n",
       "    <tr>\n",
       "      <th>month</th>\n",
       "      <th></th>\n",
       "    </tr>\n",
       "  </thead>\n",
       "  <tbody>\n",
       "    <tr>\n",
       "      <th>1</th>\n",
       "      <td>122.912176</td>\n",
       "    </tr>\n",
       "    <tr>\n",
       "      <th>2</th>\n",
       "      <td>124.293927</td>\n",
       "    </tr>\n",
       "    <tr>\n",
       "      <th>3</th>\n",
       "      <td>128.644488</td>\n",
       "    </tr>\n",
       "    <tr>\n",
       "      <th>4</th>\n",
       "      <td>135.097005</td>\n",
       "    </tr>\n",
       "    <tr>\n",
       "      <th>5</th>\n",
       "      <td>139.538183</td>\n",
       "    </tr>\n",
       "    <tr>\n",
       "      <th>6</th>\n",
       "      <td>147.473137</td>\n",
       "    </tr>\n",
       "    <tr>\n",
       "      <th>7</th>\n",
       "      <td>152.094150</td>\n",
       "    </tr>\n",
       "    <tr>\n",
       "      <th>8</th>\n",
       "      <td>150.656594</td>\n",
       "    </tr>\n",
       "    <tr>\n",
       "      <th>9</th>\n",
       "      <td>143.255949</td>\n",
       "    </tr>\n",
       "    <tr>\n",
       "      <th>10</th>\n",
       "      <td>137.031939</td>\n",
       "    </tr>\n",
       "    <tr>\n",
       "      <th>11</th>\n",
       "      <td>135.688738</td>\n",
       "    </tr>\n",
       "    <tr>\n",
       "      <th>12</th>\n",
       "      <td>137.251835</td>\n",
       "    </tr>\n",
       "  </tbody>\n",
       "</table>\n",
       "</div>"
      ],
      "text/plain": [
       "            price\n",
       "month            \n",
       "1      122.912176\n",
       "2      124.293927\n",
       "3      128.644488\n",
       "4      135.097005\n",
       "5      139.538183\n",
       "6      147.473137\n",
       "7      152.094150\n",
       "8      150.656594\n",
       "9      143.255949\n",
       "10     137.031939\n",
       "11     135.688738\n",
       "12     137.251835"
      ]
     },
     "execution_count": 210,
     "metadata": {},
     "output_type": "execute_result"
    }
   ],
   "source": [
    "# Droping the id and avaiable columns and changing the type of the price column to float\n",
    "sea_cal_pr = sea_cal_pr.drop(columns = ['listing_id', 'available'])\n",
    "sea_cal_pr['price'] = sea_cal_pr['price'].apply(lambda x: x.replace('$', '')).apply(lambda y: y.replace(',', '')).astype(float)\n",
    "\n",
    "# Obtaining the month of each date and saving it as a new feature\n",
    "sea_cal_pr['month'] = sea_cal_pr['date'].apply(lambda z: z.split('-')[1]).astype(int)\n",
    "\n",
    "# Obtaining the average price for each day\n",
    "sea_cal_pr_month = sea_cal_pr.groupby(['month']).mean()\n",
    "sea_cal_pr_month"
   ]
  },
  {
   "cell_type": "markdown",
   "id": "raising-cooling",
   "metadata": {},
   "source": [
    "### Checking the price distribuition "
   ]
  },
  {
   "cell_type": "code",
   "execution_count": 223,
   "id": "subtle-consultation",
   "metadata": {},
   "outputs": [
    {
     "data": {
      "image/png": "[encoded data removed]",
      "text/plain": [
       "<Figure size 432x288 with 1 Axes>"
      ]
     },
     "metadata": {
      "needs_background": "light"
     },
     "output_type": "display_data"
    }
   ],
   "source": [
    "sea_cal_pr_month.plot.bar(rot=0);"
   ]
  },
  {
   "cell_type": "markdown",
   "id": "broad-employment",
   "metadata": {},
   "source": [
    "## Answer to Q1:\n",
    "\n",
    "### This graph shows us an important information: the prices begin to rise when summer is approaching (June, July and August), reaching maximum value  in July. It makes sense because a lot of people usually travel in their summer vacation. \n",
    "### After the summer, the prices tend to reduce.\n",
    "\n"
   ]
  },
  {
   "cell_type": "markdown",
   "id": "respiratory-wednesday",
   "metadata": {},
   "source": [
    "## Question 2: Can the price be predicted using the data provided?"
   ]
  },
  {
   "cell_type": "code",
   "execution_count": null,
   "id": "joint-sweet",
   "metadata": {},
   "outputs": [],
   "source": []
  }
 ],
 "metadata": {
  "kernelspec": {
   "display_name": "Python 3",
   "language": "python",
   "name": "python3"
  },
  "language_info": {
   "codemirror_mode": {
    "name": "ipython",
    "version": 3
   },
   "file_extension": ".py",
   "mimetype": "text/x-python",
   "name": "python",
   "nbconvert_exporter": "python",
   "pygments_lexer": "ipython3",
   "version": "3.8.5"
  }
 },
 "nbformat": 4,
 "nbformat_minor": 5
}
